{
 "cells": [
  {
   "cell_type": "code",
   "execution_count": 1,
   "metadata": {},
   "outputs": [],
   "source": [
    "import pandas as pd\n",
    "import joblib\n",
    "from sklearn.metrics import accuracy_score, precision_score, recall_score, f1_score, roc_auc_score"
   ]
  },
  {
   "cell_type": "markdown",
   "metadata": {},
   "source": [
    "# Load Data and Extract Features and Target"
   ]
  },
  {
   "cell_type": "code",
   "execution_count": 2,
   "metadata": {},
   "outputs": [],
   "source": [
    "test = pd.read_csv(\"vct_data/test_preprocessed.csv\")\n",
    "\n",
    "features = [\n",
    "    \"Team A_Encoded\", \n",
    "    \"Team B_Encoded\",\n",
    "\n",
    "    \"Team A H2H Win %\",\n",
    "    \"Team B H2H Win %\",\n",
    "\n",
    "    \"Recent Win %_TeamA\",\n",
    "    \"Recent Win %_TeamB\",\n",
    "\n",
    "    \"Map_Abyss\",\n",
    "    \"Map_Ascent\",\n",
    "    \"Map_Bind\",\n",
    "    \"Map_Breeze\",\n",
    "    \"Map_Fracture\",\n",
    "    \"Map_Haven\",\n",
    "    \"Map_Icebox\",\n",
    "    \"Map_Lotus\",\n",
    "    \"Map_Pearl\",\n",
    "    \"Map_Split\",\n",
    "    \"Map_Sunset\",\n",
    "\n",
    "    \"Team A Map Win %\",\n",
    "    \"Team B Map Win %\",\n",
    "\n",
    "    \"Attacker Win %_RollAvg_TeamA\",\n",
    "    \"Attacker Win %_RollAvg_TeamB\",\n",
    "\n",
    "    \"Defender Win %_RollAvg_TeamA\",\n",
    "    \"Defender Win %_RollAvg_TeamB\",\n",
    "\n",
    "    \"Overtime Win %_RollAvg_TeamA\",\n",
    "    \"Overtime Win %_RollAvg_TeamB\",\n",
    "\n",
    "    \"Rating_RollAvg_TeamA\",\n",
    "    \"Rating_RollAvg_TeamB\",\n",
    "\n",
    "    \"Average Combat Score_RollAvg_TeamA\",\n",
    "    \"Average Combat Score_RollAvg_TeamB\", \n",
    "\n",
    "    \"Average Damage Per Round_RollAvg_TeamA\",\n",
    "    \"Average Damage Per Round_RollAvg_TeamB\",\n",
    "\n",
    "    \"KDA_RollAvg_TeamA\",\n",
    "    \"KDA_RollAvg_TeamB\",\n",
    "\n",
    "    \"Kill, Assist, Trade, Survive %_RollAvg_TeamA\", \n",
    "    \"Kill, Assist, Trade, Survive %_RollAvg_TeamB\",\n",
    "\n",
    "    \"First Blood %_RollAvg_TeamA\",\n",
    "    \"First Blood %_RollAvg_TeamB\",\n",
    "\n",
    "    \"Headshot %_RollAvg_TeamA\",\n",
    "    \"Headshot %_RollAvg_TeamB\",\n",
    "\n",
    "    \"Clutches_RollAvg_TeamA\",\n",
    "    \"Clutches_RollAvg_TeamB\",\n",
    "\n",
    "    \"Econ_RollAvg_TeamA\",\n",
    "    \"Econ_RollAvg_TeamB\",\n",
    "\n",
    "]\n",
    "\n",
    "X_test = test[features]\n",
    "y_test = test[\"Winner\"]\n",
    "\n",
    "X_test.head()"
   ]
  },
  {
   "cell_type": "markdown",
   "metadata": {},
   "source": [
    "# Load Pretrained Models"
   ]
  },
  {
   "cell_type": "code",
   "execution_count": 3,
   "metadata": {},
   "outputs": [],
   "source": [
    "# These models are optimized for roc_auc\n",
    "rf_v1 = joblib.load(\"models/rf_optuna_v1.pkl\")\n",
    "xgb_v1 = joblib.load(\"models/xgb_optuna_v1.pkl\")\n",
    "stacked_v1 = joblib.load(\"models/stacked_base_rf_xgb_meta_lr_v1.pkl\")\n",
    "\n",
    "# These models are optimized for accuracy\n",
    "rf_v2 = joblib.load(\"models/rf_optuna_v2.pkl\")\n",
    "xgb_v2 = joblib.load(\"models/xgb_optuna_v2.pkl\")\n",
    "stacked_v2 = joblib.load(\"models/stacked_base_rf_xgb_meta_lr_v2.pkl\")"
   ]
  },
  {
   "cell_type": "markdown",
   "metadata": {},
   "source": [
    "# Evaluate Predictions"
   ]
  },
  {
   "cell_type": "code",
   "execution_count": 6,
   "metadata": {},
   "outputs": [
    {
     "name": "stdout",
     "output_type": "stream",
     "text": [
      "rf_v1\n",
      "Accuracy:  0.603358024691358\n",
      "Precision:  0.604096241797574\n",
      "Recall:  0.6000395022713806\n",
      "F1:  0.6020610384462941\n",
      "ROC AUC:  0.6033583524790329\n",
      "\n",
      "xgb_v1\n",
      "Accuracy:  0.5992098765432099\n",
      "Precision:  0.6010863005431503\n",
      "Recall:  0.5901639344262295\n",
      "F1:  0.5955750448475184\n",
      "ROC AUC:  0.5992107700578402\n",
      "\n",
      "stacked_v1\n",
      "Accuracy:  0.6037530864197531\n",
      "Precision:  0.6052052052052052\n",
      "Recall:  0.5970768319178352\n",
      "F1:  0.6011135414595347\n",
      "ROC AUC:  0.6037537458680444\n",
      "\n",
      "rf_v2\n",
      "Accuracy:  0.6011851851851852\n",
      "Precision:  0.6023976023976024\n",
      "Recall:  0.5954967410626111\n",
      "F1:  0.598927294398093\n",
      "ROC AUC:  0.601185747062321\n",
      "\n",
      "xgb_v2\n",
      "Accuracy:  0.5992098765432099\n",
      "Precision:  0.6010863005431503\n",
      "Recall:  0.5901639344262295\n",
      "F1:  0.5955750448475184\n",
      "ROC AUC:  0.5992107700578402\n",
      "\n",
      "stacked_v2\n",
      "Accuracy:  0.6019753086419753\n",
      "Precision:  0.6015732546705999\n",
      "Recall:  0.6041872407663441\n",
      "F1:  0.6028774142688215\n",
      "ROC AUC:  0.6019750901579647\n"
     ]
    }
   ],
   "source": [
    "def evaluate_predictions(model, y_test, y_pred):\n",
    "    return {\n",
    "        \"accuracy\": accuracy_score(y_test, y_pred),\n",
    "        \"precision\": precision_score(y_test, y_pred),\n",
    "        \"recall\": recall_score(y_test, y_pred),\n",
    "        \"f1\": f1_score(y_test, y_pred),\n",
    "        \"roc_auc\": roc_auc_score(y_test, y_pred)\n",
    "    }\n",
    "\n",
    "\n",
    "print(\"rf_v1\")\n",
    "evaluate_predictions(y_test, rf_v1.predict(X_test))\n",
    "\n",
    "print(\"\\nxgb_v1\")\n",
    "evaluate_predictions(y_test, xgb_v2.predict(X_test))\n",
    "\n",
    "print(\"\\nstacked_v1\")\n",
    "evaluate_predictions(y_test, stacked_v1.predict(X_test))\n",
    "\n",
    "print(\"\\nrf_v2\")\n",
    "evaluate_predictions(y_test, rf_v2.predict(X_test))\n",
    "\n",
    "print(\"\\nxgb_v2\")\n",
    "evaluate_predictions(y_test, xgb_v2.predict(X_test))\n",
    "\n",
    "print(\"\\nstacked_v2\")\n",
    "evaluate_predictions(y_test, stacked_v2.predict(X_test))"
   ]
  },
  {
   "cell_type": "code",
   "execution_count": null,
   "metadata": {},
   "outputs": [],
   "source": []
  }
 ],
 "metadata": {
  "kernelspec": {
   "display_name": "Python 3",
   "language": "python",
   "name": "python3"
  },
  "language_info": {
   "codemirror_mode": {
    "name": "ipython",
    "version": 3
   },
   "file_extension": ".py",
   "mimetype": "text/x-python",
   "name": "python",
   "nbconvert_exporter": "python",
   "pygments_lexer": "ipython3",
   "version": "3.12.4"
  }
 },
 "nbformat": 4,
 "nbformat_minor": 2
}
